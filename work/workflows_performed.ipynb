{
 "cells": [
  {
   "cell_type": "code",
   "execution_count": 1,
   "metadata": {},
   "outputs": [],
   "source": [
    "import sys\n",
    "import collections\n",
    "from collections import Counter, defaultdict\n",
    "\n",
    "import datetime\n",
    "from datetime import datetime, timedelta, timezone\n",
    "import dateutil.parser\n",
    "\n",
    "import statistics\n",
    "from statistics import median\n",
    "\n",
    "import pandas as pd\n",
    "import seaborn as sns\n",
    "pd.options.display.max_rows = 999\n",
    "\n",
    "import pydent\n",
    "from pydent import AqSession, models\n",
    "from pydent.models import Sample, Item, Plan\n",
    "\n",
    "sys.path.append(\"ext-plan-pydent\")\n",
    "from plans import ExternalPlan"
   ]
  },
  {
   "cell_type": "code",
   "execution_count": 2,
   "metadata": {},
   "outputs": [
    {
     "name": "stdout",
     "output_type": "stream",
     "text": [
      "Logged in as Devin Strickland\n",
      "\n"
     ]
    }
   ],
   "source": [
    "session = ExternalPlan.create_session(\"production\")"
   ]
  },
  {
   "cell_type": "code",
   "execution_count": null,
   "metadata": {},
   "outputs": [],
   "source": [
    "def get_completed_jobs(operation_type_name):\n",
    "    op_type = session.OperationType.find_by_name(operation_type_name)\n",
    "    ops = session.Operation.where({\"operation_type_id\": op_type.id, 'status': 'done'})\n",
    "    print(\"Found {} Operations of type {}\".format(len(ops), operation_type_name))\n",
    "\n",
    "    op_ids = [op.id for op in ops]\n",
    "    job_associations = session.JobAssociation.where({\"operation_id\": op_ids})\n",
    "\n",
    "    job_ids = [ja.job_id for ja in job_associations]\n",
    "    jobs = session.Job.find(job_ids)\n",
    "    jobs = [j for j in jobs if j.state[-1]['operation'] == \"complete\"]\n",
    "    print(\"Found {} completed Jobs of type {}\".format(len(jobs), operation_type_name))\n",
    "    \n",
    "    return jobs"
   ]
  },
  {
   "cell_type": "code",
   "execution_count": null,
   "metadata": {},
   "outputs": [],
   "source": [
    "ops, jobs, plans = get_completed_jobs(\"Challenge and Label\")\n",
    "\n",
    "times = []\n",
    "lengths = []\n",
    "state_completeness = []\n",
    "for job in jobs:\n",
    "    times.append((job.state[2]['time'], job.state[-2]['time']))\n",
    "    lengths.append(len(job.state))\n",
    "    completeness.append(job.is_complete)\n",
    "    state_completeness.append(job.state[-1]['operation'])"
   ]
  },
  {
   "cell_type": "code",
   "execution_count": null,
   "metadata": {},
   "outputs": [],
   "source": [
    "deltas = []\n",
    "\n",
    "for time in times:\n",
    "    start = dateutil.parser.parse(time[0])\n",
    "    end = dateutil.parser.parse(time[1])\n",
    "    delta = (end - start).seconds/60\n",
    "    deltas.append(delta)"
   ]
  },
  {
   "cell_type": "code",
   "execution_count": null,
   "metadata": {},
   "outputs": [],
   "source": [
    "sns.distplot(deltas, kde=False)\n",
    "print(median([d for d in deltas if d < 500]))\n",
    "# data = list(zip(lengths, completeness, state_completeness))\n",
    "# data.sort(key=lambda x: x[0])\n",
    "# for d in data:\n",
    "#     print(d)"
   ]
  },
  {
   "cell_type": "code",
   "execution_count": null,
   "metadata": {},
   "outputs": [],
   "source": []
  },
  {
   "cell_type": "code",
   "execution_count": null,
   "metadata": {},
   "outputs": [],
   "source": [
    "window = datetime.now() - timedelta(weeks=8)\n",
    "print(str(window))\n",
    "plans = session.Plan.where(\"budget_id = {} AND created_at > '{}'\".format(budget.id, window))\n",
    "print(len(plans))"
   ]
  },
  {
   "cell_type": "code",
   "execution_count": null,
   "metadata": {},
   "outputs": [],
   "source": [
    "headers = [\n",
    "    \"Challenge problem\",\n",
    "    \"Use case/Experiment\",\n",
    "    \"Description\",\n",
    "    \"Data volume delivered to TA4 this month (TBs)\",\n",
    "    \"Cumulative data volume delivered to TA4 (TB)\",\n",
    "    \"Method Development Required?\",\n",
    "    \"Strains\",\n",
    "    \"Protocol Performed\",\n",
    "    \"Date Started\",\n",
    "    \"Date Finished\",\n",
    "    \"# Sample\",\n",
    "    \"Measurement\",\n",
    "    \"Data Volume generated (GBs)\",\n",
    "    \"Date data delivered to TA4\",\n",
    "    \"Data format\",\n",
    "    \"Cost\"\n",
    "]"
   ]
  },
  {
   "cell_type": "code",
   "execution_count": null,
   "metadata": {},
   "outputs": [],
   "source": [
    "job = session.Job.find(82029)\n",
    "print(job.status)\n",
    "print((job.state[0]))\n",
    "print((job.state[1]))\n",
    "print((job.state[2]))\n",
    "print((job.state[3]))\n",
    "print((job.state[-2]))\n",
    "print((job.state[-1]))"
   ]
  },
  {
   "cell_type": "code",
   "execution_count": null,
   "metadata": {},
   "outputs": [],
   "source": [
    "plan_data = {}\n",
    "\n",
    "for p in plans:\n",
    "    d = {}\n",
    "    d[\"plan\"] = p\n",
    "    d[\"ops\"] = p.operations\n",
    "    plan_data[p.id] = d"
   ]
  },
  {
   "cell_type": "code",
   "execution_count": null,
   "metadata": {},
   "outputs": [],
   "source": [
    "all_operation_types = {}\n",
    "\n",
    "for ot in session.OperationType.all():\n",
    "    all_operation_types[ot.id] = ot"
   ]
  },
  {
   "cell_type": "code",
   "execution_count": null,
   "metadata": {},
   "outputs": [],
   "source": [
    "table_data = []\n",
    "month_start = datetime(2018, 10, 1, tzinfo=timezone(-timedelta(hours=7)))\n",
    "month_end = datetime(2018, 11, 1, tzinfo=timezone(-timedelta(hours=7)))\n",
    "\n",
    "for id, data in plan_data.items():\n",
    "    dates = [op.updated_at for op in data[\"ops\"]]\n",
    "    start = dateutil.parser.parse(min(dates))\n",
    "    end = dateutil.parser.parse(max(dates))\n",
    "    \n",
    "    if start >= month_start and end < month_end:\n",
    "        row = {}\n",
    "        row[\"Description\"] = data[\"plan\"].name\n",
    "\n",
    "        row[\"Date Started\"] = start.strftime(\"%x\")\n",
    "        row[\"Date Finished\"] = end.strftime(\"%x\")\n",
    "\n",
    "        if not data.get(\"cost\"):\n",
    "            data[\"cost\"] = data[\"plan\"].estimate_cost()\n",
    "\n",
    "        row[\"Cost\"] = data[\"cost\"]\n",
    "        \n",
    "        \n",
    "        op_types = list(set([all_operation_types[op.operation_type_id].name for op in data[\"ops\"]]))\n",
    "        \n",
    "        if \"Challenge and Label\" in op_types:\n",
    "            row[\"Challenge problem\"] = \"Protein Design\"\n",
    "        elif \"Treat With Zymolyase\" in op_types:\n",
    "            row[\"Challenge problem\"] = \"Protein Design\"\n",
    "        elif \"4. Measure OD and GFP\" in op_types:\n",
    "            row[\"Challenge problem\"] = \"YeastSTATES\"\n",
    "\n",
    "        table_data.append(row)"
   ]
  },
  {
   "cell_type": "code",
   "execution_count": null,
   "metadata": {},
   "outputs": [],
   "source": [
    "df = pd.DataFrame(data=table_data, columns=headers)"
   ]
  },
  {
   "cell_type": "code",
   "execution_count": null,
   "metadata": {},
   "outputs": [],
   "source": [
    "df"
   ]
  },
  {
   "cell_type": "code",
   "execution_count": null,
   "metadata": {},
   "outputs": [],
   "source": [
    "df.to_csv(\"progress_report.csv\", index=False)"
   ]
  },
  {
   "cell_type": "code",
   "execution_count": null,
   "metadata": {},
   "outputs": [],
   "source": []
  }
 ],
 "metadata": {
  "kernelspec": {
   "display_name": "Python 3",
   "language": "python",
   "name": "python3"
  },
  "language_info": {
   "codemirror_mode": {
    "name": "ipython",
    "version": 3
   },
   "file_extension": ".py",
   "mimetype": "text/x-python",
   "name": "python",
   "nbconvert_exporter": "python",
   "pygments_lexer": "ipython3",
   "version": "3.6.4"
  }
 },
 "nbformat": 4,
 "nbformat_minor": 2
}
