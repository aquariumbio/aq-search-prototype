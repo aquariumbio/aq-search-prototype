{
 "cells": [
  {
   "cell_type": "code",
   "execution_count": 7,
   "metadata": {},
   "outputs": [],
   "source": [
    "import sys\n",
    "import os\n",
    "\n",
    "import pydent\n",
    "from pydent import AqSession, models\n",
    "from pydent.models import Sample, Item, Plan\n",
    "\n",
    "sys.path.append(\"ext-plan-pydent\")\n",
    "from plans import ExternalPlan"
   ]
  },
  {
   "cell_type": "code",
   "execution_count": 2,
   "metadata": {},
   "outputs": [
    {
     "name": "stdout",
     "output_type": "stream",
     "text": [
      "Connected to Aquarium at http://52.27.43.242/ using pydent version 0.0.35\n",
      "Logged in as Devin Strickland\n",
      "\n"
     ]
    }
   ],
   "source": [
    "session = ExternalPlan.create_session(\"production\")"
   ]
  },
  {
   "cell_type": "code",
   "execution_count": 3,
   "metadata": {},
   "outputs": [
    {
     "data": {
      "text/plain": [
       "<Plan>"
      ]
     },
     "execution_count": 3,
     "metadata": {},
     "output_type": "execute_result"
    }
   ],
   "source": [
    "plan = session.Plan.find(32405)\n",
    "plan"
   ]
  },
  {
   "cell_type": "code",
   "execution_count": 4,
   "metadata": {},
   "outputs": [],
   "source": [
    "outdir = \"yeast_states/cell_state_reporters/GFP-TomatoDesigns/sequencing_results\""
   ]
  },
  {
   "cell_type": "code",
   "execution_count": 5,
   "metadata": {},
   "outputs": [
    {
     "name": "stderr",
     "output_type": "stream",
     "text": [
      "Running \"async_download\" [size: 1, num: 25]: 100%|██████████| 25.0/25.0 [00:01<00:00, 16.4it/s]\n"
     ]
    },
    {
     "data": {
      "text/plain": [
       "['yeast_states/cell_state_reporters/GFP-TomatoDesigns/sequencing_results/32415_gel_339047.JPG',\n",
       " 'yeast_states/cell_state_reporters/GFP-TomatoDesigns/sequencing_results/32418_gel_339048.JPG',\n",
       " 'yeast_states/cell_state_reporters/GFP-TomatoDesigns/sequencing_results/32431_gel_339586.JPG',\n",
       " 'yeast_states/cell_state_reporters/GFP-TomatoDesigns/sequencing_results/32487_340458-Devin_Strickland-29097.ab1',\n",
       " 'yeast_states/cell_state_reporters/GFP-TomatoDesigns/sequencing_results/32488_340459-Devin_Strickland-29097.ab1',\n",
       " 'yeast_states/cell_state_reporters/GFP-TomatoDesigns/sequencing_results/32481_340369-Devin_Strickland-29097.ab1',\n",
       " 'yeast_states/cell_state_reporters/GFP-TomatoDesigns/sequencing_results/32473_340370-Devin_Strickland-29097.ab1',\n",
       " 'yeast_states/cell_state_reporters/GFP-TomatoDesigns/sequencing_results/32471_340371-Devin_Strickland-29097.ab1',\n",
       " 'yeast_states/cell_state_reporters/GFP-TomatoDesigns/sequencing_results/32472_340372-Devin_Strickland-29097.ab1',\n",
       " 'yeast_states/cell_state_reporters/GFP-TomatoDesigns/sequencing_results/32486_340460-Devin_Strickland-29097.ab1',\n",
       " 'yeast_states/cell_state_reporters/GFP-TomatoDesigns/sequencing_results/32489_340461-Devin_Strickland-29097.ab1',\n",
       " 'yeast_states/cell_state_reporters/GFP-TomatoDesigns/sequencing_results/32474_340373-Devin_Strickland-29097.ab1',\n",
       " 'yeast_states/cell_state_reporters/GFP-TomatoDesigns/sequencing_results/32475_340374-Devin_Strickland-29097.ab1',\n",
       " 'yeast_states/cell_state_reporters/GFP-TomatoDesigns/sequencing_results/32476_340375-Devin_Strickland-29097.ab1',\n",
       " 'yeast_states/cell_state_reporters/GFP-TomatoDesigns/sequencing_results/32477_340376-Devin_Strickland-29097.ab1',\n",
       " 'yeast_states/cell_state_reporters/GFP-TomatoDesigns/sequencing_results/32522_340865-Devin_Strickland-29097.ab1',\n",
       " 'yeast_states/cell_state_reporters/GFP-TomatoDesigns/sequencing_results/32523_340866-Devin_Strickland-29097.ab1',\n",
       " 'yeast_states/cell_state_reporters/GFP-TomatoDesigns/sequencing_results/32525_340867-Devin_Strickland-29097.ab1',\n",
       " 'yeast_states/cell_state_reporters/GFP-TomatoDesigns/sequencing_results/32524_340868-Devin_Strickland-29097.ab1',\n",
       " 'yeast_states/cell_state_reporters/GFP-TomatoDesigns/sequencing_results/32526_340869-Devin_Strickland-29097.ab1',\n",
       " 'yeast_states/cell_state_reporters/GFP-TomatoDesigns/sequencing_results/32527_340870-Devin_Strickland-29097.ab1',\n",
       " 'yeast_states/cell_state_reporters/GFP-TomatoDesigns/sequencing_results/32528_340871-Devin_Strickland-29097.ab1',\n",
       " 'yeast_states/cell_state_reporters/GFP-TomatoDesigns/sequencing_results/32531_340872-Devin_Strickland-29097.ab1',\n",
       " 'yeast_states/cell_state_reporters/GFP-TomatoDesigns/sequencing_results/32529_340873-Devin_Strickland-29097.ab1',\n",
       " 'yeast_states/cell_state_reporters/GFP-TomatoDesigns/sequencing_results/32530_340874-Devin_Strickland-29097.ab1']"
      ]
     },
     "execution_count": 5,
     "metadata": {},
     "output_type": "execute_result"
    }
   ],
   "source": [
    "plan.download_files(outdir=outdir)"
   ]
  },
  {
   "cell_type": "code",
   "execution_count": 8,
   "metadata": {},
   "outputs": [
    {
     "data": {
      "text/plain": [
       "['32476_340375-Devin_Strickland-29097.ab1',\n",
       " '32475_340374-Devin_Strickland-29097.ab1',\n",
       " '32482_340378-Devin_Strickland-29096.ab1',\n",
       " '32471_340371-Devin_Strickland-29097.ab1',\n",
       " '.DS_Store',\n",
       " '32500_340389-Devin_Strickland-29096.ab1',\n",
       " '32494_340299-Devin_Strickland-29096.ab1',\n",
       " '32507_340387-Devin_Strickland-29096.ab1',\n",
       " '32481_340369-Devin_Strickland-29097.ab1',\n",
       " '32485_340381-Devin_Strickland-29096.ab1',\n",
       " '32474_340373-Devin_Strickland-29097.ab1',\n",
       " '32506_340386-Devin_Strickland-29096.ab1',\n",
       " '32491_340296-Devin_Strickland-29096.ab1',\n",
       " '32492_340297-Devin_Strickland-29096.ab1',\n",
       " '32473_340370-Devin_Strickland-29097.ab1',\n",
       " '32490_340295-Devin_Strickland-29096.ab1',\n",
       " '32499_340384-Devin_Strickland-29096.ab1',\n",
       " '32484_340379-Devin_Strickland-29096.ab1',\n",
       " '32486_340460-Devin_Strickland-29097.ab1',\n",
       " '32493_340298-Devin_Strickland-29096.ab1',\n",
       " '32478_340377-Devin_Strickland-29096.ab1',\n",
       " '32497_340382-Devin_Strickland-29096.ab1',\n",
       " '32487_340458-Devin_Strickland-29097.ab1',\n",
       " '32505_340385-Devin_Strickland-29096.ab1',\n",
       " '32508_340388-Devin_Strickland-29096.ab1',\n",
       " '32495_340300-Devin_Strickland-29096.ab1',\n",
       " '32501_340390-Devin_Strickland-29096.ab1',\n",
       " '32489_340461-Devin_Strickland-29097.ab1',\n",
       " '32477_340376-Devin_Strickland-29097.ab1',\n",
       " '32483_340380-Devin_Strickland-29096.ab1',\n",
       " '32498_340383-Devin_Strickland-29096.ab1',\n",
       " '32472_340372-Devin_Strickland-29097.ab1',\n",
       " '32488_340459-Devin_Strickland-29097.ab1']"
      ]
     },
     "execution_count": 8,
     "metadata": {},
     "output_type": "execute_result"
    }
   ],
   "source": [
    "old_files = os.listdir(outdir + \"_old\")\n",
    "old_files"
   ]
  },
  {
   "cell_type": "code",
   "execution_count": 9,
   "metadata": {},
   "outputs": [
    {
     "data": {
      "text/plain": [
       "['32476_340375-Devin_Strickland-29097.ab1',\n",
       " '32475_340374-Devin_Strickland-29097.ab1',\n",
       " '32471_340371-Devin_Strickland-29097.ab1',\n",
       " '32524_340868-Devin_Strickland-29097.ab1',\n",
       " '32529_340873-Devin_Strickland-29097.ab1',\n",
       " '32481_340369-Devin_Strickland-29097.ab1',\n",
       " '32523_340866-Devin_Strickland-29097.ab1',\n",
       " '32474_340373-Devin_Strickland-29097.ab1',\n",
       " '32473_340370-Devin_Strickland-29097.ab1',\n",
       " '32526_340869-Devin_Strickland-29097.ab1',\n",
       " '32415_gel_339047.JPG',\n",
       " '32486_340460-Devin_Strickland-29097.ab1',\n",
       " '32431_gel_339586.JPG',\n",
       " '32527_340870-Devin_Strickland-29097.ab1',\n",
       " '32522_340865-Devin_Strickland-29097.ab1',\n",
       " '32487_340458-Devin_Strickland-29097.ab1',\n",
       " '32525_340867-Devin_Strickland-29097.ab1',\n",
       " '32489_340461-Devin_Strickland-29097.ab1',\n",
       " '32528_340871-Devin_Strickland-29097.ab1',\n",
       " '32531_340872-Devin_Strickland-29097.ab1',\n",
       " '32477_340376-Devin_Strickland-29097.ab1',\n",
       " '32418_gel_339048.JPG',\n",
       " '32472_340372-Devin_Strickland-29097.ab1',\n",
       " '32488_340459-Devin_Strickland-29097.ab1',\n",
       " '32530_340874-Devin_Strickland-29097.ab1']"
      ]
     },
     "execution_count": 9,
     "metadata": {},
     "output_type": "execute_result"
    }
   ],
   "source": [
    "new_files = os.listdir(outdir)\n",
    "new_files"
   ]
  },
  {
   "cell_type": "code",
   "execution_count": 11,
   "metadata": {},
   "outputs": [
    {
     "data": {
      "text/plain": [
       "['32524_340868-Devin_Strickland-29097.ab1',\n",
       " '32529_340873-Devin_Strickland-29097.ab1',\n",
       " '32523_340866-Devin_Strickland-29097.ab1',\n",
       " '32526_340869-Devin_Strickland-29097.ab1',\n",
       " '32415_gel_339047.JPG',\n",
       " '32431_gel_339586.JPG',\n",
       " '32527_340870-Devin_Strickland-29097.ab1',\n",
       " '32522_340865-Devin_Strickland-29097.ab1',\n",
       " '32525_340867-Devin_Strickland-29097.ab1',\n",
       " '32528_340871-Devin_Strickland-29097.ab1',\n",
       " '32531_340872-Devin_Strickland-29097.ab1',\n",
       " '32418_gel_339048.JPG',\n",
       " '32530_340874-Devin_Strickland-29097.ab1']"
      ]
     },
     "execution_count": 11,
     "metadata": {},
     "output_type": "execute_result"
    }
   ],
   "source": [
    "diff = [f for f in new_files if f not in old_files]\n",
    "diff"
   ]
  },
  {
   "cell_type": "code",
   "execution_count": 12,
   "metadata": {},
   "outputs": [],
   "source": [
    "for f in new_files:\n",
    "    if f not in old_files:\n",
    "        os.remove(os.path.join(outdir, f))"
   ]
  },
  {
   "cell_type": "code",
   "execution_count": 13,
   "metadata": {},
   "outputs": [
    {
     "data": {
      "text/plain": [
       "['32476_340375-Devin_Strickland-29097.ab1',\n",
       " '32475_340374-Devin_Strickland-29097.ab1',\n",
       " '32471_340371-Devin_Strickland-29097.ab1',\n",
       " '32481_340369-Devin_Strickland-29097.ab1',\n",
       " '32474_340373-Devin_Strickland-29097.ab1',\n",
       " '32473_340370-Devin_Strickland-29097.ab1',\n",
       " '32486_340460-Devin_Strickland-29097.ab1',\n",
       " '32487_340458-Devin_Strickland-29097.ab1',\n",
       " '32489_340461-Devin_Strickland-29097.ab1',\n",
       " '32477_340376-Devin_Strickland-29097.ab1',\n",
       " '32472_340372-Devin_Strickland-29097.ab1',\n",
       " '32488_340459-Devin_Strickland-29097.ab1']"
      ]
     },
     "execution_count": 13,
     "metadata": {},
     "output_type": "execute_result"
    }
   ],
   "source": [
    "new_files = os.listdir(outdir)\n",
    "new_files"
   ]
  },
  {
   "cell_type": "code",
   "execution_count": null,
   "metadata": {},
   "outputs": [],
   "source": []
  }
 ],
 "metadata": {
  "kernelspec": {
   "display_name": "Python 3",
   "language": "python",
   "name": "python3"
  },
  "language_info": {
   "codemirror_mode": {
    "name": "ipython",
    "version": 3
   },
   "file_extension": ".py",
   "mimetype": "text/x-python",
   "name": "python",
   "nbconvert_exporter": "python",
   "pygments_lexer": "ipython3",
   "version": "3.6.4"
  }
 },
 "nbformat": 4,
 "nbformat_minor": 2
}
