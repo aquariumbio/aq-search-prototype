{
 "cells": [
  {
   "cell_type": "code",
   "execution_count": 1,
   "metadata": {},
   "outputs": [
    {
     "name": "stderr",
     "output_type": "stream",
     "text": [
      "/usr/local/Cellar/python3/3.6.4_2/Frameworks/Python.framework/Versions/3.6/lib/python3.6/site-packages/matplotlib/font_manager.py:232: UserWarning: Matplotlib is building the font cache using fc-list. This may take a moment.\n",
      "  'Matplotlib is building the font cache using fc-list. '\n"
     ]
    }
   ],
   "source": [
    "\n",
    "\n",
    "sys.path.append(\"../ext-plan-pydent\")\n",
    "from plans import ExternalPlan"
   ]
  },
  {
   "cell_type": "code",
   "execution_count": 2,
   "metadata": {},
   "outputs": [
    {
     "name": "stdout",
     "output_type": "stream",
     "text": [
      "Logged in as Devin Strickland\n",
      "\n"
     ]
    }
   ],
   "source": [
    "filename = '../ext-plan-pydent/config.yml'\n",
    "\n",
    "with open(filename, 'r') as f:\n",
    "    config = yaml.load(f)\n",
    "\n",
    "login = config['aquarium']['production']\n",
    "\n",
    "session = AqSession(\n",
    "    login['username'],\n",
    "    login['password'],\n",
    "    login['url']\n",
    ")\n",
    "\n",
    "me = session.User.where({'login': login['username']})[0]\n",
    "print('Logged in as %s\\n' % me.name)"
   ]
  },
  {
   "cell_type": "code",
   "execution_count": 3,
   "metadata": {},
   "outputs": [
    {
     "name": "stdout",
     "output_type": "stream",
     "text": [
      "{'created_at': '2018-01-02T14:28:12.000-08:00',\n",
      " 'description': 'A sample that contains a pool of DNA molecules with many '\n",
      "                'unique sequences',\n",
      " 'field_types': <Many (model=FieldType, callback=where_callback, params=(<function SampleType.<lambda> at 0x110d6d510>,))>,\n",
      " 'id': 70,\n",
      " 'name': 'DNA Library',\n",
      " 'rid': 5,\n",
      " 'samples': <HasMany (model=Sample, callback=where_callback, params=(<function HasMany.__init__.<locals>.callback_args at 0x110d6d488>,))>,\n",
      " 'updated_at': '2018-01-02T14:28:12.000-08:00'}\n"
     ]
    }
   ],
   "source": [
    "st = session.SampleType.find_by_name(\"DNA Library\")\n",
    "print(st)"
   ]
  },
  {
   "cell_type": "code",
   "execution_count": 4,
   "metadata": {},
   "outputs": [
    {
     "name": "stdout",
     "output_type": "stream",
     "text": [
      "75\n"
     ]
    }
   ],
   "source": [
    "samples = st.samples\n",
    "print(len(samples))"
   ]
  },
  {
   "cell_type": "code",
   "execution_count": 22,
   "metadata": {},
   "outputs": [],
   "source": [
    "sample_ids = [s.id for s in samples]\n",
    "items = []\n",
    "for s in sample_ids:\n",
    "    items.append(session.Item.where({\"sample_id\": s}))"
   ]
  },
  {
   "cell_type": "code",
   "execution_count": 23,
   "metadata": {},
   "outputs": [
    {
     "name": "stdout",
     "output_type": "stream",
     "text": [
      "75\n"
     ]
    }
   ],
   "source": [
    "print(len(items))"
   ]
  },
  {
   "cell_type": "code",
   "execution_count": 24,
   "metadata": {},
   "outputs": [],
   "source": [
    "flat_items = [item for sublist in items for item in sublist]"
   ]
  },
  {
   "cell_type": "code",
   "execution_count": 25,
   "metadata": {},
   "outputs": [
    {
     "name": "stdout",
     "output_type": "stream",
     "text": [
      "2019-02-07 00:00:00-08:00\n"
     ]
    }
   ],
   "source": [
    "pacific = timezone('US/Pacific')\n",
    "\n",
    "window_end = pacific.localize(datetime(2019, 2, 7))\n",
    "print(window_end)"
   ]
  },
  {
   "cell_type": "code",
   "execution_count": 26,
   "metadata": {},
   "outputs": [],
   "source": [
    "unstored_locations = [\n",
    "    'ice bucket', \n",
    "    '30 C shaker incubator', \n",
    "    'Culture discard area', \n",
    "    '30 °C shaker incubator', \n",
    "    '30 C shaker', \n",
    "    'Bench'\n",
    "]"
   ]
  },
  {
   "cell_type": "code",
   "execution_count": 27,
   "metadata": {},
   "outputs": [
    {
     "name": "stdout",
     "output_type": "stream",
     "text": [
      "966\n"
     ]
    }
   ],
   "source": [
    "unstored_items = [i for i in flat_items if i.location in unstored_locations]\n",
    "print(len(unstored_items))"
   ]
  },
  {
   "cell_type": "code",
   "execution_count": 28,
   "metadata": {},
   "outputs": [
    {
     "name": "stdout",
     "output_type": "stream",
     "text": [
      "936\n"
     ]
    }
   ],
   "source": [
    "old_unstored_items = [i for i in unstored_items if dateutil.parser.parse(i.updated_at) < window_end]\n",
    "print(len(old_unstored_items))"
   ]
  },
  {
   "cell_type": "code",
   "execution_count": 29,
   "metadata": {},
   "outputs": [
    {
     "name": "stdout",
     "output_type": "stream",
     "text": [
      "Counter({747: 850, 748: 86})\n"
     ]
    }
   ],
   "source": [
    "ot_ct = Counter()\n",
    "\n",
    "for i in old_unstored_items:\n",
    "    ot_ct[i.object_type_id] += 1\n",
    "    \n",
    "print(ot_ct)"
   ]
  },
  {
   "cell_type": "code",
   "execution_count": 30,
   "metadata": {},
   "outputs": [
    {
     "name": "stdout",
     "output_type": "stream",
     "text": [
      "[747, 748]\n",
      "747 Labeled Yeast Library Suspension\n",
      "748 Yeast Library Liquid Culture\n"
     ]
    }
   ],
   "source": [
    "ot_ids = list(ot_ct.keys())\n",
    "print(ot_ids)\n",
    "ots = session.ObjectType.find(ot_ids)\n",
    "for ot in ots:\n",
    "    print(str(ot.id) + \" \" + ot.name)"
   ]
  },
  {
   "cell_type": "code",
   "execution_count": 31,
   "metadata": {},
   "outputs": [],
   "source": [
    "def json_update(model, **params):\n",
    "    \"\"\"This update method is fairly dangerous. Be careful!\"\"\"\n",
    "    data = {\"model\": {\"model\": model.__class__.__name__}}\n",
    "    data.update(model.dump(**params))\n",
    "    return model.session.utils.aqhttp.post('json/save', json_data=data)"
   ]
  },
  {
   "cell_type": "code",
   "execution_count": 32,
   "metadata": {},
   "outputs": [
    {
     "name": "stdout",
     "output_type": "stream",
     "text": [
      "{'created_at': '2018-05-14T08:08:45.000-07:00',\n",
      " 'data': None,\n",
      " 'data_associations': <HasManyGeneric (model=DataAssociation, callback=where_callback, params=(<function HasMany.__init__.<locals>.callback_args at 0x110d489d8>,))>,\n",
      " 'id': 131140,\n",
      " 'inuse': 0,\n",
      " 'is_part': False,\n",
      " 'location': 'Bench',\n",
      " 'object_type': <HasOne (model=ObjectType, callback_args=lambda self: self.object_type_id)>,\n",
      " 'object_type_id': 747,\n",
      " 'quantity': 1,\n",
      " 'rid': 23971,\n",
      " 'sample': <HasOne (model=Sample, callback_args=lambda self: self.sample_id)>,\n",
      " 'sample_id': 22088,\n",
      " 'updated_at': '2018-05-14T08:08:45.000-07:00'}\n"
     ]
    }
   ],
   "source": [
    "print(old_unstored_items[0])"
   ]
  },
  {
   "cell_type": "code",
   "execution_count": 34,
   "metadata": {},
   "outputs": [],
   "source": [
    "for item in old_unstored_items:\n",
    "    item.location = 'deleted'\n",
    "    item.quantity = 0\n",
    "    json_update(item)"
   ]
  },
  {
   "cell_type": "code",
   "execution_count": 36,
   "metadata": {},
   "outputs": [
    {
     "name": "stdout",
     "output_type": "stream",
     "text": [
      "{'cleanup': 'No cleanup information',\n",
      " 'columns': None,\n",
      " 'cost': 0.01,\n",
      " 'created_at': '2018-04-17T14:04:15.000-07:00',\n",
      " 'data': 'No data',\n",
      " 'description': 'A dried mixture of backbone and insert for high-efficiency '\n",
      "                'yeast transformation',\n",
      " 'handler': 'sample_container',\n",
      " 'id': 780,\n",
      " 'image': '',\n",
      " 'max': 1,\n",
      " 'min': 0,\n",
      " 'name': 'Dried Fragment Mix',\n",
      " 'prefix': 'M20',\n",
      " 'release_description': '',\n",
      " 'release_method': 'return',\n",
      " 'rid': 45959,\n",
      " 'rows': None,\n",
      " 'safety': 'No safety information',\n",
      " 'sample_type_id': 70,\n",
      " 'unit': 'Fragment',\n",
      " 'updated_at': '2018-04-17T15:08:01.000-07:00',\n",
      " 'vendor': 'No vendor information'}\n",
      "92\n"
     ]
    }
   ],
   "source": [
    "ot = session.ObjectType.find(780)\n",
    "print(ot)\n",
    "these_items = session.Item.where({\"object_type_id\": 780})\n",
    "print(len(these_items))"
   ]
  },
  {
   "cell_type": "code",
   "execution_count": null,
   "metadata": {},
   "outputs": [],
   "source": []
  }
 ],
 "metadata": {
  "kernelspec": {
   "display_name": "Python 3",
   "language": "python",
   "name": "python3"
  },
  "language_info": {
   "codemirror_mode": {
    "name": "ipython",
    "version": 3
   },
   "file_extension": ".py",
   "mimetype": "text/x-python",
   "name": "python",
   "nbconvert_exporter": "python",
   "pygments_lexer": "ipython3",
   "version": "3.7.3"
  }
 },
 "nbformat": 4,
 "nbformat_minor": 2
}
