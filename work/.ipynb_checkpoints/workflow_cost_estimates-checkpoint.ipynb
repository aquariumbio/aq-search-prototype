{
 "cells": [
  {
   "cell_type": "code",
   "execution_count": null,
   "metadata": {},
   "outputs": [],
   "source": [
    "from util.workflow_stats import *\n",
    "from util.pydent_helper import create_session"
   ]
  },
  {
   "cell_type": "code",
   "execution_count": null,
   "metadata": {},
   "outputs": [],
   "source": [
    "session = create_session(\"production\")"
   ]
  },
  {
   "cell_type": "code",
   "execution_count": null,
   "metadata": {},
   "outputs": [],
   "source": [
    "year = 2020\n",
    "month = 3\n",
    "\n",
    "all_ops = []\n",
    "\n",
    "while True:\n",
    "    if month < 12:\n",
    "        next_month = month + 1\n",
    "        next_year = year\n",
    "    else:\n",
    "        next_month = 1\n",
    "        next_year = year + 1\n",
    "        \n",
    "    pacific = timezone('US/Pacific')\n",
    "\n",
    "    month_start = pacific.localize(datetime(year, month, 1))\n",
    "    month_end = pacific.localize(datetime(next_year, next_month, 1))\n",
    "\n",
    "    window_ops = operations_for_window(session, month_start, month_end)\n",
    "    \n",
    "    if not window_ops: break\n",
    "    all_ops += window_ops\n",
    "    \n",
    "    print(\"{} Total Operations found\".format(len(all_ops)))\n",
    "\n",
    "    month = next_month\n",
    "    year = next_year"
   ]
  },
  {
   "cell_type": "code",
   "execution_count": null,
   "metadata": {},
   "outputs": [],
   "source": [
    "job_data = compile_job_data(session, all_ops)"
   ]
  },
  {
   "cell_type": "code",
   "execution_count": null,
   "metadata": {
    "scrolled": true
   },
   "outputs": [],
   "source": [
    "output_df = compile_stats(job_data)"
   ]
  },
  {
   "cell_type": "code",
   "execution_count": null,
   "metadata": {},
   "outputs": [],
   "source": [
    "output_df.to_csv(\"job_stats.csv\", index=False)"
   ]
  },
  {
   "cell_type": "code",
   "execution_count": null,
   "metadata": {},
   "outputs": [],
   "source": []
  }
 ],
 "metadata": {
  "kernelspec": {
   "display_name": "Python 3",
   "language": "python",
   "name": "python3"
  },
  "language_info": {
   "codemirror_mode": {
    "name": "ipython",
    "version": 3
   },
   "file_extension": ".py",
   "mimetype": "text/x-python",
   "name": "python",
   "nbconvert_exporter": "python",
   "pygments_lexer": "ipython3",
   "version": "3.7.3"
  }
 },
 "nbformat": 4,
 "nbformat_minor": 2
}
