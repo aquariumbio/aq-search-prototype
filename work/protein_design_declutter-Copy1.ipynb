{
 "cells": [
  {
   "cell_type": "code",
   "execution_count": 1,
   "metadata": {},
   "outputs": [],
   "source": [
    "import sys\n",
    "import collections\n",
    "from collections import Counter\n",
    "\n",
    "import datetime\n",
    "from datetime import datetime, timedelta, timezone\n",
    "import dateutil.parser\n",
    "\n",
    "from collections import defaultdict\n",
    "\n",
    "import yaml\n",
    "\n",
    "import pandas as pd\n",
    "import seaborn as sns\n",
    "pd.options.display.max_rows = 999\n",
    "\n",
    "import pytz\n",
    "from pytz import timezone\n",
    "\n",
    "import pydent\n",
    "from pydent import AqSession, models\n",
    "from pydent.models import Sample, Item, Plan\n",
    "\n",
    "sys.path.append(\"../ext-plan-pydent\")\n",
    "from plans import ExternalPlan"
   ]
  },
  {
   "cell_type": "code",
   "execution_count": 2,
   "metadata": {},
   "outputs": [
    {
     "name": "stdout",
     "output_type": "stream",
     "text": [
      "Logged in as Devin Strickland\n",
      "\n"
     ]
    }
   ],
   "source": [
    "filename = '../ext-plan-pydent/config.yml'\n",
    "\n",
    "with open(filename, 'r') as f:\n",
    "    config = yaml.load(f)\n",
    "\n",
    "login = config['aquarium']['production']\n",
    "\n",
    "session = AqSession(\n",
    "    login['username'],\n",
    "    login['password'],\n",
    "    login['url']\n",
    ")\n",
    "\n",
    "me = session.User.where({'login': login['username']})[0]\n",
    "print('Logged in as %s\\n' % me.name)"
   ]
  },
  {
   "cell_type": "code",
   "execution_count": 3,
   "metadata": {},
   "outputs": [
    {
     "name": "stdout",
     "output_type": "stream",
     "text": [
      "{'category': 'Cloning',\n",
      " 'codes': <HasManyGeneric (model=Code, callback=where_callback, params=(<function HasMany.__init__.<locals>.callback_args at 0x11e53b2f0>,))>,\n",
      " 'cost_model': <One (model=Code, callback=get_code_callback, params=('cost_model',))>,\n",
      " 'created_at': '2017-07-12T19:25:39.000-07:00',\n",
      " 'deployed': True,\n",
      " 'documentation': <One (model=Code, callback=get_code_callback, params=('documentation',))>,\n",
      " 'field_types': <Many (model=FieldType, callback=where_callback, params=(<function OperationType.<lambda> at 0x11e53b268>,))>,\n",
      " 'id': 30,\n",
      " 'name': 'Make Miniprep',\n",
      " 'on_the_fly': False,\n",
      " 'operations': <HasMany (model=Operation, callback=where_callback, params=(<function HasMany.__init__.<locals>.callback_args at 0x11e53b1e0>,))>,\n",
      " 'precondition': <One (model=Code, callback=get_code_callback, params=('precondition',))>,\n",
      " 'protocol': <One (model=Code, callback=get_code_callback, params=('protocol',))>,\n",
      " 'rid': 5,\n",
      " 'updated_at': '2017-07-12T19:27:32.000-07:00',\n",
      " 'user': <HasOne (model=User, callback_args=lambda self: self.user_id)>}\n"
     ]
    }
   ],
   "source": [
    "ot = session.OperationType.find_by_name(\"Make Miniprep\")\n",
    "print(ot)"
   ]
  },
  {
   "cell_type": "code",
   "execution_count": 4,
   "metadata": {},
   "outputs": [],
   "source": [
    "ops = ot.operations"
   ]
  },
  {
   "cell_type": "code",
   "execution_count": 5,
   "metadata": {},
   "outputs": [],
   "source": [
    "obj_type = session.ObjectType.find_by_name(\"Plasmid Stock\")"
   ]
  },
  {
   "cell_type": "code",
   "execution_count": 6,
   "metadata": {},
   "outputs": [
    {
     "name": "stdout",
     "output_type": "stream",
     "text": [
      "{'cleanup': 'No cleanup information',\n",
      " 'columns': None,\n",
      " 'cost': 2.0,\n",
      " 'created_at': '2013-10-15T10:01:41.000-07:00',\n",
      " 'data': 'concentration:',\n",
      " 'description': 'A 1.5 mL tube containing purified plasmid DNA',\n",
      " 'handler': 'sample_container',\n",
      " 'id': 208,\n",
      " 'image': '',\n",
      " 'max': 1,\n",
      " 'min': 0,\n",
      " 'name': 'Plasmid Stock',\n",
      " 'prefix': 'M20',\n",
      " 'release_description': '',\n",
      " 'release_method': 'return',\n",
      " 'rid': 6765,\n",
      " 'rows': None,\n",
      " 'safety': 'No safety information',\n",
      " 'sample_type_id': 2,\n",
      " 'unit': 'Plasmid',\n",
      " 'updated_at': '2014-05-09T16:10:47.000-07:00',\n",
      " 'vendor': 'No vendor information'}\n"
     ]
    }
   ],
   "source": [
    "print(obj_type)"
   ]
  },
  {
   "cell_type": "code",
   "execution_count": 7,
   "metadata": {},
   "outputs": [
    {
     "name": "stdout",
     "output_type": "stream",
     "text": [
      "2018-01-01 00:00:00-08:00\n"
     ]
    }
   ],
   "source": [
    "pacific = timezone('US/Pacific')\n",
    "\n",
    "window_start = pacific.localize(datetime(2018, 1, 1))\n",
    "print(window_start)"
   ]
  },
  {
   "cell_type": "code",
   "execution_count": 8,
   "metadata": {},
   "outputs": [],
   "source": [
    "minipreps = session.Item.where(\"sample_id = 21264 AND object_type_id = 208 AND updated_at >= '{}'\".format(window_start))"
   ]
  },
  {
   "cell_type": "code",
   "execution_count": 9,
   "metadata": {},
   "outputs": [
    {
     "name": "stdout",
     "output_type": "stream",
     "text": [
      "228\n"
     ]
    }
   ],
   "source": [
    "print(len(minipreps))"
   ]
  },
  {
   "cell_type": "code",
   "execution_count": 10,
   "metadata": {},
   "outputs": [],
   "source": [
    "item_ids = [i.id for i in minipreps]"
   ]
  },
  {
   "cell_type": "code",
   "execution_count": 11,
   "metadata": {},
   "outputs": [
    {
     "name": "stdout",
     "output_type": "stream",
     "text": [
      "453\n"
     ]
    }
   ],
   "source": [
    "das = session.DataAssociation.where({\"parent_class\": \"Item\", \"parent_id\": item_ids})\n",
    "print(len(das))"
   ]
  },
  {
   "cell_type": "code",
   "execution_count": 12,
   "metadata": {},
   "outputs": [],
   "source": [
    "concs = [da for da in das if da.key == 'concentration']\n",
    "x = [dateutil.parser.parse(c.updated_at) for c in concs]\n",
    "y = [float(c.value) for c in concs]"
   ]
  },
  {
   "cell_type": "code",
   "execution_count": 13,
   "metadata": {},
   "outputs": [
    {
     "name": "stdout",
     "output_type": "stream",
     "text": [
      "{'created_at': '2017-10-10T09:15:27.000-07:00',\n",
      " 'id': 117700,\n",
      " 'key': 'concentration',\n",
      " 'object': '{\"concentration\": 330.5}',\n",
      " 'parent_class': 'Item',\n",
      " 'parent_id': 107197,\n",
      " 'rid': 7677,\n",
      " 'updated_at': '2017-10-10T09:15:27.000-07:00',\n",
      " 'upload': <HasOne (model=Upload, callback_args=lambda self: self.upload_id)>,\n",
      " 'upload_id': None}\n",
      "330.5\n"
     ]
    }
   ],
   "source": [
    "print(concs[0])\n",
    "print(y[0])"
   ]
  },
  {
   "cell_type": "code",
   "execution_count": 14,
   "metadata": {},
   "outputs": [
    {
     "data": {
      "text/plain": [
       "<matplotlib.axes._subplots.AxesSubplot at 0x11f0aca20>"
      ]
     },
     "execution_count": 14,
     "metadata": {},
     "output_type": "execute_result"
    },
    {
     "data": {
      "image/png": "[encoded data removed]",
      "text/plain": [
       "<Figure size 432x288 with 1 Axes>"
      ]
     },
     "metadata": {},
     "output_type": "display_data"
    }
   ],
   "source": [
    "sns.distplot(y)"
   ]
  },
  {
   "cell_type": "code",
   "execution_count": null,
   "metadata": {},
   "outputs": [],
   "source": []
  }
 ],
 "metadata": {
  "kernelspec": {
   "display_name": "Python 3",
   "language": "python",
   "name": "python3"
  },
  "language_info": {
   "codemirror_mode": {
    "name": "ipython",
    "version": 3
   },
   "file_extension": ".py",
   "mimetype": "text/x-python",
   "name": "python",
   "nbconvert_exporter": "python",
   "pygments_lexer": "ipython3",
   "version": "3.6.4"
  }
 },
 "nbformat": 4,
 "nbformat_minor": 2
}
