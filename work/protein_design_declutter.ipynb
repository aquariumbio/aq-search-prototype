{
 "cells": [
  {
   "cell_type": "code",
   "execution_count": 1,
   "metadata": {},
   "outputs": [],
   "source": [
    "from pydent_helper import *"
   ]
  },
  {
   "cell_type": "code",
   "execution_count": 3,
   "metadata": {},
   "outputs": [
    {
     "name": "stdout",
     "output_type": "stream",
     "text": [
      "Connected to Aquarium at http://52.27.43.242/ using pydent version 0.0.35\n",
      "Logged in as Devin Strickland\n",
      "\n"
     ]
    }
   ],
   "source": [
    "session = get_session(\"production\")"
   ]
  },
  {
   "cell_type": "code",
   "execution_count": 5,
   "metadata": {},
   "outputs": [],
   "source": [
    "st = session.SampleType.find_by_name(\"DNA Library\")"
   ]
  },
  {
   "cell_type": "code",
   "execution_count": 6,
   "metadata": {},
   "outputs": [
    {
     "name": "stdout",
     "output_type": "stream",
     "text": [
      "194\n"
     ]
    }
   ],
   "source": [
    "samples = st.samples\n",
    "print(len(samples))"
   ]
  },
  {
   "cell_type": "code",
   "execution_count": 10,
   "metadata": {
    "scrolled": false
   },
   "outputs": [
    {
     "name": "stdout",
     "output_type": "stream",
     "text": [
      "Found 474 Items for Sample 22088\n",
      "Found 42 Items for Sample 22235\n",
      "Found 266 Items for Sample 22312\n",
      "Found 7 Items for Sample 22328\n",
      "Found 7 Items for Sample 22329\n",
      "Found 400 Items for Sample 22610\n",
      "Found 12 Items for Sample 22611\n",
      "Found 11 Items for Sample 22612\n",
      "Found 154 Items for Sample 22613\n",
      "Found 337 Items for Sample 22614\n",
      "Found 25 Items for Sample 22776\n",
      "Found 25 Items for Sample 22777\n",
      "Found 9 Items for Sample 22806\n",
      "Found 90 Items for Sample 23161\n",
      "Found 409 Items for Sample 23166\n",
      "Found 219 Items for Sample 23211\n",
      "Found 24 Items for Sample 23244\n",
      "Found 141 Items for Sample 23245\n",
      "Found 105 Items for Sample 23247\n",
      "Found 213 Items for Sample 23294\n",
      "Found 43 Items for Sample 23295\n",
      "Found 46 Items for Sample 23296\n",
      "Found 46 Items for Sample 23297\n",
      "Found 67 Items for Sample 23298\n",
      "Found 66 Items for Sample 23299\n",
      "Found 90 Items for Sample 23300\n",
      "Found 252 Items for Sample 23301\n",
      "Found 4 Items for Sample 23553\n",
      "Found 38 Items for Sample 23684\n",
      "Found 40 Items for Sample 23685\n",
      "Found 39 Items for Sample 23686\n",
      "Found 79 Items for Sample 23687\n",
      "Found 134 Items for Sample 23688\n",
      "Found 46 Items for Sample 23854\n",
      "Found 238 Items for Sample 23872\n",
      "Found 247 Items for Sample 24018\n",
      "Found 303 Items for Sample 24181\n",
      "Found 31 Items for Sample 24257\n",
      "Found 17 Items for Sample 24293\n",
      "Found 26 Items for Sample 24481\n",
      "Found 296 Items for Sample 24629\n",
      "Found 26 Items for Sample 24878\n",
      "Found 4 Items for Sample 25064\n",
      "Found 240 Items for Sample 25416\n",
      "Found 578 Items for Sample 25563\n",
      "Found 429 Items for Sample 25650\n",
      "Found 14 Items for Sample 25651\n",
      "Found 9 Items for Sample 25663\n",
      "Found 425 Items for Sample 25765\n",
      "Found 22 Items for Sample 25889\n",
      "Found 21 Items for Sample 26042\n",
      "Found 30 Items for Sample 26079\n",
      "Found 447 Items for Sample 26095\n",
      "Found 13 Items for Sample 26502\n",
      "Found 12 Items for Sample 26503\n",
      "Found 7 Items for Sample 26522\n",
      "Found 549 Items for Sample 26527\n",
      "Found 498 Items for Sample 26942\n",
      "Found 467 Items for Sample 27082\n",
      "Found 7 Items for Sample 27189\n",
      "Found 7 Items for Sample 27192\n",
      "Found 8 Items for Sample 27194\n",
      "Found 1319 Items for Sample 27197\n",
      "Found 20 Items for Sample 27230\n",
      "Found 435 Items for Sample 27239\n",
      "Found 282 Items for Sample 27240\n",
      "Found 94 Items for Sample 27260\n",
      "Found 46 Items for Sample 27266\n",
      "Found 169 Items for Sample 27778\n",
      "Found 13 Items for Sample 27784\n",
      "Found 310 Items for Sample 27785\n",
      "Found 15 Items for Sample 27786\n",
      "Found 15 Items for Sample 27787\n",
      "Found 164 Items for Sample 27791\n",
      "Found 202 Items for Sample 27818\n",
      "Found 287 Items for Sample 28349\n",
      "Found 6 Items for Sample 28427\n",
      "Found 6 Items for Sample 28428\n",
      "Found 235 Items for Sample 28429\n",
      "Found 8 Items for Sample 28466\n",
      "Found 323 Items for Sample 28509\n",
      "Found 689 Items for Sample 28768\n",
      "Found 427 Items for Sample 28769\n",
      "Found 7 Items for Sample 28785\n",
      "Found 7 Items for Sample 28788\n",
      "Found 245 Items for Sample 28789\n",
      "Found 30 Items for Sample 29402\n",
      "Found 46 Items for Sample 29471\n",
      "Found 9 Items for Sample 29552\n",
      "Found 9 Items for Sample 29553\n",
      "Found 8 Items for Sample 29555\n",
      "Found 674 Items for Sample 29631\n",
      "### Sample 29773:\n",
      "Found 327 Items for Sample 29797\n",
      "Found 331 Items for Sample 29840\n",
      "Found 457 Items for Sample 29955\n",
      "Found 2 Items for Sample 30036\n",
      "Found 2 Items for Sample 30037\n",
      "Found 2 Items for Sample 30038\n",
      "Found 2 Items for Sample 30039\n",
      "Found 2 Items for Sample 30040\n",
      "Found 2 Items for Sample 30041\n",
      "Found 2 Items for Sample 30042\n",
      "Found 2 Items for Sample 30043\n",
      "Found 2 Items for Sample 30044\n",
      "Found 2 Items for Sample 30045\n",
      "Found 2 Items for Sample 30046\n",
      "Found 2 Items for Sample 30047\n",
      "Found 2 Items for Sample 30048\n",
      "Found 2 Items for Sample 30049\n",
      "Found 2 Items for Sample 30050\n",
      "Found 2 Items for Sample 30051\n",
      "Found 2 Items for Sample 30052\n",
      "Found 2 Items for Sample 30053\n",
      "Found 2 Items for Sample 30054\n",
      "Found 2 Items for Sample 30055\n",
      "Found 2 Items for Sample 30056\n",
      "Found 2 Items for Sample 30057\n",
      "Found 2 Items for Sample 30058\n",
      "Found 2 Items for Sample 30059\n",
      "Found 2 Items for Sample 30060\n",
      "Found 2 Items for Sample 30061\n",
      "Found 2 Items for Sample 30062\n",
      "Found 2 Items for Sample 30063\n",
      "Found 2 Items for Sample 30064\n",
      "Found 2 Items for Sample 30065\n",
      "Found 2 Items for Sample 30066\n",
      "Found 2 Items for Sample 30067\n",
      "Found 2 Items for Sample 30068\n",
      "Found 1 Items for Sample 30069\n",
      "Found 1 Items for Sample 30070\n",
      "Found 1 Items for Sample 30071\n",
      "Found 1 Items for Sample 30072\n",
      "Found 1 Items for Sample 30073\n",
      "Found 1 Items for Sample 30074\n",
      "Found 1 Items for Sample 30075\n",
      "Found 1 Items for Sample 30076\n",
      "Found 1 Items for Sample 30077\n",
      "Found 0 Items for Sample 30078\n",
      "Found 0 Items for Sample 30079\n",
      "Found 0 Items for Sample 30080\n",
      "Found 0 Items for Sample 30081\n",
      "Found 0 Items for Sample 30082\n",
      "Found 0 Items for Sample 30083\n",
      "Found 0 Items for Sample 30084\n",
      "Found 0 Items for Sample 30085\n",
      "Found 311 Items for Sample 30227\n",
      "Found 139 Items for Sample 30270\n",
      "Found 44 Items for Sample 30656\n",
      "Found 107 Items for Sample 30664\n",
      "Found 56 Items for Sample 30665\n",
      "Found 156 Items for Sample 30666\n",
      "Found 2 Items for Sample 30747\n",
      "Found 3 Items for Sample 30748\n",
      "Found 3 Items for Sample 30749\n",
      "Found 3 Items for Sample 30750\n",
      "Found 5 Items for Sample 30751\n",
      "Found 2 Items for Sample 30752\n",
      "Found 2 Items for Sample 30753\n",
      "Found 3 Items for Sample 30754\n",
      "Found 3 Items for Sample 30755\n",
      "Found 3 Items for Sample 30756\n",
      "Found 5 Items for Sample 30757\n",
      "Found 2 Items for Sample 30758\n",
      "Found 2 Items for Sample 30759\n",
      "Found 2 Items for Sample 30760\n",
      "Found 2 Items for Sample 30761\n",
      "Found 2 Items for Sample 30762\n",
      "Found 2 Items for Sample 30763\n",
      "Found 2 Items for Sample 30764\n",
      "Found 2 Items for Sample 30765\n",
      "Found 2 Items for Sample 30766\n",
      "Found 2 Items for Sample 30767\n",
      "Found 2 Items for Sample 30768\n",
      "Found 490 Items for Sample 30770\n",
      "Found 55 Items for Sample 30786\n",
      "Found 67 Items for Sample 30787\n",
      "Found 267 Items for Sample 30860\n",
      "Found 50 Items for Sample 30864\n",
      "Found 50 Items for Sample 30865\n",
      "Found 11 Items for Sample 30866\n",
      "Found 11 Items for Sample 30867\n",
      "Found 402 Items for Sample 31049\n",
      "Found 328 Items for Sample 31237\n",
      "Found 8 Items for Sample 31274\n",
      "Found 397 Items for Sample 31319\n",
      "Found 85 Items for Sample 31388\n",
      "Found 278 Items for Sample 31389\n",
      "Found 61 Items for Sample 31435\n",
      "Found 2 Items for Sample 31894\n",
      "Found 57 Items for Sample 31997\n",
      "Found 57 Items for Sample 32005\n",
      "Found 2 Items for Sample 32095\n",
      "Found 3 Items for Sample 32152\n"
     ]
    }
   ],
   "source": [
    "sample_ids = [s.id for s in samples]\n",
    "items = []\n",
    "for sample_id in sample_ids:\n",
    "    these_items = []\n",
    "    try:\n",
    "        these_items = session.Item.where({\"sample_id\": sample_id})\n",
    "        print(\"Found {} Items for Sample {}\".format(len(these_items), sample_id))\n",
    "    except Exception as e: \n",
    "        print(\"### Sample {}:\".format(sample_id,e))\n",
    "           \n",
    "    items.append(these_items)"
   ]
  },
  {
   "cell_type": "code",
   "execution_count": 11,
   "metadata": {},
   "outputs": [
    {
     "name": "stdout",
     "output_type": "stream",
     "text": [
      "194\n"
     ]
    }
   ],
   "source": [
    "print(len(items))"
   ]
  },
  {
   "cell_type": "code",
   "execution_count": 12,
   "metadata": {},
   "outputs": [
    {
     "name": "stdout",
     "output_type": "stream",
     "text": [
      "19771\n"
     ]
    }
   ],
   "source": [
    "flat_items = [item for sublist in items for item in sublist]\n",
    "print(len(flat_items))"
   ]
  },
  {
   "cell_type": "code",
   "execution_count": 13,
   "metadata": {},
   "outputs": [
    {
     "name": "stdout",
     "output_type": "stream",
     "text": [
      "2019-10-13 00:00:00-07:00\n"
     ]
    }
   ],
   "source": [
    "pacific = timezone('US/Pacific')\n",
    "\n",
    "window_end = pacific.localize(datetime(2019, 10, 13))\n",
    "print(window_end)"
   ]
  },
  {
   "cell_type": "code",
   "execution_count": 14,
   "metadata": {},
   "outputs": [],
   "source": [
    "unstored_locations = [\n",
    "    'ice bucket', \n",
    "    '30 C shaker incubator', \n",
    "    'Culture discard area', \n",
    "    '30 °C shaker incubator', \n",
    "    '30 C shaker', \n",
    "    'Bench'\n",
    "]"
   ]
  },
  {
   "cell_type": "code",
   "execution_count": 15,
   "metadata": {},
   "outputs": [
    {
     "name": "stdout",
     "output_type": "stream",
     "text": [
      "364\n"
     ]
    }
   ],
   "source": [
    "unstored_items = [i for i in flat_items if i.location in unstored_locations]\n",
    "print(len(unstored_items))"
   ]
  },
  {
   "cell_type": "code",
   "execution_count": 16,
   "metadata": {},
   "outputs": [
    {
     "name": "stdout",
     "output_type": "stream",
     "text": [
      "349\n"
     ]
    }
   ],
   "source": [
    "old_unstored_items = [i for i in unstored_items if dateutil.parser.parse(i.updated_at) < window_end]\n",
    "print(len(old_unstored_items))"
   ]
  },
  {
   "cell_type": "code",
   "execution_count": 17,
   "metadata": {},
   "outputs": [
    {
     "name": "stdout",
     "output_type": "stream",
     "text": [
      "Counter({747: 338, 748: 8, 746: 3})\n"
     ]
    }
   ],
   "source": [
    "ot_ct = Counter()\n",
    "\n",
    "for i in old_unstored_items:\n",
    "    ot_ct[i.object_type_id] += 1\n",
    "    \n",
    "print(ot_ct)"
   ]
  },
  {
   "cell_type": "code",
   "execution_count": 18,
   "metadata": {},
   "outputs": [
    {
     "name": "stdout",
     "output_type": "stream",
     "text": [
      "[748, 747, 746]\n",
      "746 Yeast Library Glycerol Stock\n",
      "747 Labeled Yeast Library Suspension\n",
      "748 Yeast Library Liquid Culture\n"
     ]
    }
   ],
   "source": [
    "ot_ids = list(ot_ct.keys())\n",
    "print(ot_ids)\n",
    "ots = session.ObjectType.find(ot_ids)\n",
    "for ot in ots:\n",
    "    print(str(ot.id) + \" \" + ot.name)"
   ]
  },
  {
   "cell_type": "code",
   "execution_count": 20,
   "metadata": {},
   "outputs": [
    {
     "name": "stdout",
     "output_type": "stream",
     "text": [
      "346\n"
     ]
    }
   ],
   "source": [
    "old_unstored_items = [i for i in old_unstored_items if i.object_type_id != 746]\n",
    "print(len(old_unstored_items))"
   ]
  },
  {
   "cell_type": "code",
   "execution_count": 21,
   "metadata": {},
   "outputs": [],
   "source": [
    "def json_update(model, **params):\n",
    "    \"\"\"This update method is fairly dangerous. Be careful!\"\"\"\n",
    "    data = {\"model\": {\"model\": model.__class__.__name__}}\n",
    "    data.update(model.dump(**params))\n",
    "    return model.session.utils.aqhttp.post('json/save', json_data=data)"
   ]
  },
  {
   "cell_type": "code",
   "execution_count": 23,
   "metadata": {},
   "outputs": [],
   "source": [
    "for item in old_unstored_items:\n",
    "    item.location = 'deleted'\n",
    "    item.quantity = 0\n",
    "    json_update(item)"
   ]
  }
 ],
 "metadata": {
  "kernelspec": {
   "display_name": "Python 3",
   "language": "python",
   "name": "python3"
  },
  "language_info": {
   "codemirror_mode": {
    "name": "ipython",
    "version": 3
   },
   "file_extension": ".py",
   "mimetype": "text/x-python",
   "name": "python",
   "nbconvert_exporter": "python",
   "pygments_lexer": "ipython3",
   "version": "3.7.3"
  }
 },
 "nbformat": 4,
 "nbformat_minor": 2
}
