{
 "cells": [
  {
   "cell_type": "code",
   "execution_count": 1,
   "metadata": {},
   "outputs": [],
   "source": [
    "import sys\n",
    "import collections\n",
    "from collections import Counter\n",
    "\n",
    "import datetime\n",
    "from datetime import datetime, timedelta, timezone\n",
    "import dateutil.parser\n",
    "\n",
    "from collections import defaultdict\n",
    "\n",
    "import yaml\n",
    "\n",
    "import pandas as pd\n",
    "import seaborn as sns\n",
    "pd.options.display.max_rows = 999\n",
    "\n",
    "import pytz\n",
    "from pytz import timezone\n",
    "\n",
    "import pydent\n",
    "from pydent import AqSession, models\n",
    "from pydent.models import Sample, Item, Plan\n",
    "\n",
    "sys.path.append(\"../ext-plan-pydent\")\n",
    "from plans import ExternalPlan"
   ]
  },
  {
   "cell_type": "code",
   "execution_count": 2,
   "metadata": {},
   "outputs": [
    {
     "name": "stdout",
     "output_type": "stream",
     "text": [
      "Logged in as Devin Strickland\n",
      "\n"
     ]
    },
    {
     "name": "stderr",
     "output_type": "stream",
     "text": [
      "/usr/local/Cellar/ipython/7.5.0/libexec/vendor/lib/python3.7/site-packages/ipykernel_launcher.py:4: YAMLLoadWarning: calling yaml.load() without Loader=... is deprecated, as the default Loader is unsafe. Please read https://msg.pyyaml.org/load for full details.\n",
      "  after removing the cwd from sys.path.\n"
     ]
    }
   ],
   "source": [
    "filename = '../ext-plan-pydent/config.yml'\n",
    "\n",
    "with open(filename, 'r') as f:\n",
    "    config = yaml.load(f)\n",
    "\n",
    "login = config['aquarium']['production']\n",
    "\n",
    "session = AqSession(\n",
    "    login['username'],\n",
    "    login['password'],\n",
    "    login['url']\n",
    ")\n",
    "\n",
    "me = session.User.where({'login': login['username']})[0]\n",
    "print('Logged in as %s\\n' % me.name)"
   ]
  },
  {
   "cell_type": "code",
   "execution_count": 5,
   "metadata": {},
   "outputs": [],
   "source": [
    "def find_in_batches(cls, conditions):\n",
    "    offset = 0\n",
    "    limit = 100\n",
    "    all_objs = []\n",
    "\n",
    "    while True:\n",
    "        objs = cls.where(conditions, opts={\"offset\": offset, \"limit\": limit})\n",
    "        if not objs: break\n",
    "        all_objs += objs\n",
    "        offset += limit\n",
    "        print(len(all_objs))\n",
    "        \n",
    "    return all_objs"
   ]
  },
  {
   "cell_type": "code",
   "execution_count": 10,
   "metadata": {},
   "outputs": [],
   "source": [
    "def json_update(model, **params):\n",
    "    \"\"\"This update method is fairly dangerous. Be careful!\"\"\"\n",
    "    data = {\"model\": {\"model\": model.__class__.__name__}}\n",
    "    data.update(model.dump(**params))\n",
    "    return model.session.utils.aqhttp.post('json/save', json_data=data)"
   ]
  },
  {
   "cell_type": "code",
   "execution_count": 4,
   "metadata": {},
   "outputs": [
    {
     "name": "stdout",
     "output_type": "stream",
     "text": [
      "{'cleanup': 'No cleanup information',\n",
      " 'columns': 6,\n",
      " 'cost': 0.01,\n",
      " 'created_at': '2018-05-22T15:41:23.000-07:00',\n",
      " 'data': 'No data',\n",
      " 'description': 'Used to run gels',\n",
      " 'handler': 'collection',\n",
      " 'id': 785,\n",
      " 'image': '',\n",
      " 'max': 100,\n",
      " 'min': 0,\n",
      " 'name': '50 mL Agarose Gel in Gel Box',\n",
      " 'prefix': '',\n",
      " 'release_description': '',\n",
      " 'release_method': 'return',\n",
      " 'rid': 7,\n",
      " 'rows': 2,\n",
      " 'safety': 'No safety information',\n",
      " 'sample_type_id': None,\n",
      " 'unit': 'box',\n",
      " 'updated_at': '2018-05-22T15:49:37.000-07:00',\n",
      " 'vendor': 'No vendor information'}\n"
     ]
    }
   ],
   "source": [
    "ot = session.ObjectType.find_by_name(\"50 mL Agarose Gel in Gel Box\")\n",
    "print(ot)"
   ]
  },
  {
   "cell_type": "code",
   "execution_count": 7,
   "metadata": {},
   "outputs": [
    {
     "name": "stdout",
     "output_type": "stream",
     "text": [
      "100\n",
      "195\n",
      "195\n"
     ]
    }
   ],
   "source": [
    "conditions = {\"object_type_id\": ot.id}\n",
    "items = find_in_batches(session.Item, conditions)\n",
    "print(len(items))"
   ]
  },
  {
   "cell_type": "code",
   "execution_count": 8,
   "metadata": {},
   "outputs": [
    {
     "name": "stdout",
     "output_type": "stream",
     "text": [
      "['Bench', 'Gel Room', 'deleted']\n"
     ]
    }
   ],
   "source": [
    "locations = list(set([i.location for i in items]))\n",
    "print(locations)"
   ]
  },
  {
   "cell_type": "code",
   "execution_count": 15,
   "metadata": {},
   "outputs": [
    {
     "name": "stdout",
     "output_type": "stream",
     "text": [
      "0\n"
     ]
    }
   ],
   "source": [
    "undeleted = [i for i in items if not i.location == 'deleted']\n",
    "print(len(undeleted))"
   ]
  },
  {
   "cell_type": "code",
   "execution_count": 13,
   "metadata": {},
   "outputs": [
    {
     "name": "stdout",
     "output_type": "stream",
     "text": [
      "[1, 1, 1, 1, 1, 1, 1, 1, 1, 1, 1]\n"
     ]
    }
   ],
   "source": [
    "print(str(list(i.quantity for i in undeleted)))"
   ]
  },
  {
   "cell_type": "code",
   "execution_count": 14,
   "metadata": {},
   "outputs": [],
   "source": [
    "for item in undeleted:\n",
    "    item.location = 'deleted'\n",
    "    json_update(item)"
   ]
  },
  {
   "cell_type": "code",
   "execution_count": null,
   "metadata": {},
   "outputs": [],
   "source": []
  }
 ],
 "metadata": {
  "kernelspec": {
   "display_name": "Python 3",
   "language": "python",
   "name": "python3"
  },
  "language_info": {
   "codemirror_mode": {
    "name": "ipython",
    "version": 3
   },
   "file_extension": ".py",
   "mimetype": "text/x-python",
   "name": "python",
   "nbconvert_exporter": "python",
   "pygments_lexer": "ipython3",
   "version": "3.7.3"
  }
 },
 "nbformat": 4,
 "nbformat_minor": 2
}
